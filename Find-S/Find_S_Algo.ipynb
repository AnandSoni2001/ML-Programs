{
  "nbformat": 4,
  "nbformat_minor": 0,
  "metadata": {
    "colab": {
      "name": "Find-S Algo",
      "provenance": [],
      "authorship_tag": "ABX9TyN8vn3evcWAuOPQtSgwWe1I",
      "include_colab_link": true
    },
    "kernelspec": {
      "name": "python3",
      "display_name": "Python 3"
    },
    "language_info": {
      "name": "python"
    }
  },
  "cells": [
    {
      "cell_type": "markdown",
      "metadata": {
        "id": "view-in-github",
        "colab_type": "text"
      },
      "source": [
        "<a href=\"https://colab.research.google.com/github/AnandSoni2001/ML-Programs/blob/main/Find-S/Find_S_Algo.ipynb\" target=\"_parent\"><img src=\"https://colab.research.google.com/assets/colab-badge.svg\" alt=\"Open In Colab\"/></a>"
      ]
    },
    {
      "cell_type": "markdown",
      "source": [
        "# Reading the Data"
      ],
      "metadata": {
        "id": "QTXqP0c042X_"
      }
    },
    {
      "cell_type": "code",
      "source": [
        "import pandas as pd\n",
        "data=pd.read_csv('sports.csv')\n",
        "data"
      ],
      "metadata": {
        "colab": {
          "base_uri": "https://localhost:8080/",
          "height": 173
        },
        "id": "NbvuIrb-2Whw",
        "outputId": "e46134f0-8cf8-4315-bd29-f6c648c6563d"
      },
      "execution_count": 1,
      "outputs": [
        {
          "output_type": "execute_result",
          "data": {
            "text/plain": [
              "     sky air_temp humidity    wind water forecast enjoy_sport\n",
              "0  sunny     warm   normal  strong  warm     same         yes\n",
              "1  sunny     warm     high  strong  warm     same         yes\n",
              "2  rainy     cold     high  strong  warm   change          no\n",
              "3  sunny     warm     high  strong  cool   change         yes"
            ],
            "text/html": [
              "\n",
              "  <div id=\"df-d49c7077-7095-4765-a349-3355d8aeda3d\">\n",
              "    <div class=\"colab-df-container\">\n",
              "      <div>\n",
              "<style scoped>\n",
              "    .dataframe tbody tr th:only-of-type {\n",
              "        vertical-align: middle;\n",
              "    }\n",
              "\n",
              "    .dataframe tbody tr th {\n",
              "        vertical-align: top;\n",
              "    }\n",
              "\n",
              "    .dataframe thead th {\n",
              "        text-align: right;\n",
              "    }\n",
              "</style>\n",
              "<table border=\"1\" class=\"dataframe\">\n",
              "  <thead>\n",
              "    <tr style=\"text-align: right;\">\n",
              "      <th></th>\n",
              "      <th>sky</th>\n",
              "      <th>air_temp</th>\n",
              "      <th>humidity</th>\n",
              "      <th>wind</th>\n",
              "      <th>water</th>\n",
              "      <th>forecast</th>\n",
              "      <th>enjoy_sport</th>\n",
              "    </tr>\n",
              "  </thead>\n",
              "  <tbody>\n",
              "    <tr>\n",
              "      <th>0</th>\n",
              "      <td>sunny</td>\n",
              "      <td>warm</td>\n",
              "      <td>normal</td>\n",
              "      <td>strong</td>\n",
              "      <td>warm</td>\n",
              "      <td>same</td>\n",
              "      <td>yes</td>\n",
              "    </tr>\n",
              "    <tr>\n",
              "      <th>1</th>\n",
              "      <td>sunny</td>\n",
              "      <td>warm</td>\n",
              "      <td>high</td>\n",
              "      <td>strong</td>\n",
              "      <td>warm</td>\n",
              "      <td>same</td>\n",
              "      <td>yes</td>\n",
              "    </tr>\n",
              "    <tr>\n",
              "      <th>2</th>\n",
              "      <td>rainy</td>\n",
              "      <td>cold</td>\n",
              "      <td>high</td>\n",
              "      <td>strong</td>\n",
              "      <td>warm</td>\n",
              "      <td>change</td>\n",
              "      <td>no</td>\n",
              "    </tr>\n",
              "    <tr>\n",
              "      <th>3</th>\n",
              "      <td>sunny</td>\n",
              "      <td>warm</td>\n",
              "      <td>high</td>\n",
              "      <td>strong</td>\n",
              "      <td>cool</td>\n",
              "      <td>change</td>\n",
              "      <td>yes</td>\n",
              "    </tr>\n",
              "  </tbody>\n",
              "</table>\n",
              "</div>\n",
              "      <button class=\"colab-df-convert\" onclick=\"convertToInteractive('df-d49c7077-7095-4765-a349-3355d8aeda3d')\"\n",
              "              title=\"Convert this dataframe to an interactive table.\"\n",
              "              style=\"display:none;\">\n",
              "        \n",
              "  <svg xmlns=\"http://www.w3.org/2000/svg\" height=\"24px\"viewBox=\"0 0 24 24\"\n",
              "       width=\"24px\">\n",
              "    <path d=\"M0 0h24v24H0V0z\" fill=\"none\"/>\n",
              "    <path d=\"M18.56 5.44l.94 2.06.94-2.06 2.06-.94-2.06-.94-.94-2.06-.94 2.06-2.06.94zm-11 1L8.5 8.5l.94-2.06 2.06-.94-2.06-.94L8.5 2.5l-.94 2.06-2.06.94zm10 10l.94 2.06.94-2.06 2.06-.94-2.06-.94-.94-2.06-.94 2.06-2.06.94z\"/><path d=\"M17.41 7.96l-1.37-1.37c-.4-.4-.92-.59-1.43-.59-.52 0-1.04.2-1.43.59L10.3 9.45l-7.72 7.72c-.78.78-.78 2.05 0 2.83L4 21.41c.39.39.9.59 1.41.59.51 0 1.02-.2 1.41-.59l7.78-7.78 2.81-2.81c.8-.78.8-2.07 0-2.86zM5.41 20L4 18.59l7.72-7.72 1.47 1.35L5.41 20z\"/>\n",
              "  </svg>\n",
              "      </button>\n",
              "      \n",
              "  <style>\n",
              "    .colab-df-container {\n",
              "      display:flex;\n",
              "      flex-wrap:wrap;\n",
              "      gap: 12px;\n",
              "    }\n",
              "\n",
              "    .colab-df-convert {\n",
              "      background-color: #E8F0FE;\n",
              "      border: none;\n",
              "      border-radius: 50%;\n",
              "      cursor: pointer;\n",
              "      display: none;\n",
              "      fill: #1967D2;\n",
              "      height: 32px;\n",
              "      padding: 0 0 0 0;\n",
              "      width: 32px;\n",
              "    }\n",
              "\n",
              "    .colab-df-convert:hover {\n",
              "      background-color: #E2EBFA;\n",
              "      box-shadow: 0px 1px 2px rgba(60, 64, 67, 0.3), 0px 1px 3px 1px rgba(60, 64, 67, 0.15);\n",
              "      fill: #174EA6;\n",
              "    }\n",
              "\n",
              "    [theme=dark] .colab-df-convert {\n",
              "      background-color: #3B4455;\n",
              "      fill: #D2E3FC;\n",
              "    }\n",
              "\n",
              "    [theme=dark] .colab-df-convert:hover {\n",
              "      background-color: #434B5C;\n",
              "      box-shadow: 0px 1px 3px 1px rgba(0, 0, 0, 0.15);\n",
              "      filter: drop-shadow(0px 1px 2px rgba(0, 0, 0, 0.3));\n",
              "      fill: #FFFFFF;\n",
              "    }\n",
              "  </style>\n",
              "\n",
              "      <script>\n",
              "        const buttonEl =\n",
              "          document.querySelector('#df-d49c7077-7095-4765-a349-3355d8aeda3d button.colab-df-convert');\n",
              "        buttonEl.style.display =\n",
              "          google.colab.kernel.accessAllowed ? 'block' : 'none';\n",
              "\n",
              "        async function convertToInteractive(key) {\n",
              "          const element = document.querySelector('#df-d49c7077-7095-4765-a349-3355d8aeda3d');\n",
              "          const dataTable =\n",
              "            await google.colab.kernel.invokeFunction('convertToInteractive',\n",
              "                                                     [key], {});\n",
              "          if (!dataTable) return;\n",
              "\n",
              "          const docLinkHtml = 'Like what you see? Visit the ' +\n",
              "            '<a target=\"_blank\" href=https://colab.research.google.com/notebooks/data_table.ipynb>data table notebook</a>'\n",
              "            + ' to learn more about interactive tables.';\n",
              "          element.innerHTML = '';\n",
              "          dataTable['output_type'] = 'display_data';\n",
              "          await google.colab.output.renderOutput(dataTable, element);\n",
              "          const docLink = document.createElement('div');\n",
              "          docLink.innerHTML = docLinkHtml;\n",
              "          element.appendChild(docLink);\n",
              "        }\n",
              "      </script>\n",
              "    </div>\n",
              "  </div>\n",
              "  "
            ]
          },
          "metadata": {},
          "execution_count": 1
        }
      ]
    },
    {
      "cell_type": "markdown",
      "source": [
        "#Converting into a 2D List"
      ],
      "metadata": {
        "id": "sqgHotXw47Mk"
      }
    },
    {
      "cell_type": "code",
      "source": [
        "df = data.values.tolist()\n",
        "df"
      ],
      "metadata": {
        "colab": {
          "base_uri": "https://localhost:8080/"
        },
        "id": "KxHx4kV04KrE",
        "outputId": "b7cc6679-5bb2-48fd-f5ff-ad9ad7776ecd"
      },
      "execution_count": 2,
      "outputs": [
        {
          "output_type": "execute_result",
          "data": {
            "text/plain": [
              "[['sunny', 'warm', 'normal', 'strong', 'warm', 'same', 'yes'],\n",
              " ['sunny', 'warm', 'high', 'strong', 'warm', 'same', 'yes'],\n",
              " ['rainy', 'cold', 'high', 'strong', 'warm', 'change', 'no'],\n",
              " ['sunny', 'warm', 'high', 'strong', 'cool', 'change', 'yes']]"
            ]
          },
          "metadata": {},
          "execution_count": 2
        }
      ]
    },
    {
      "cell_type": "markdown",
      "source": [
        "#Defining Num of Attributes and Initializing Specific Hypothesis\n"
      ],
      "metadata": {
        "id": "FeP3aYfC5CZP"
      }
    },
    {
      "cell_type": "code",
      "source": [
        "num_attri = 6 #Enjoy_Sport column is target\n",
        "\n",
        "specific = ['Φ']*num_attri\n",
        "\n",
        "for i in range(num_attri): \n",
        "  specific[i] = df[0][i]\n",
        "  \n",
        "print('Taking Example 1 : ', df[1], '\\nInitial Specific Hypothesis : ', specific)"
      ],
      "metadata": {
        "colab": {
          "base_uri": "https://localhost:8080/"
        },
        "id": "D_UUqh2q2XEw",
        "outputId": "580a52f2-a263-48e5-f33e-3c1db23f7979"
      },
      "execution_count": 3,
      "outputs": [
        {
          "output_type": "stream",
          "name": "stdout",
          "text": [
            "Taking Example 1 :  ['sunny', 'warm', 'high', 'strong', 'warm', 'same', 'yes'] \n",
            "Initial Specific Hypothesis :  ['sunny', 'warm', 'normal', 'strong', 'warm', 'same']\n"
          ]
        }
      ]
    },
    {
      "cell_type": "markdown",
      "source": [
        "#Looping through Data"
      ],
      "metadata": {
        "id": "r8IvusYK-lyp"
      }
    },
    {
      "cell_type": "code",
      "source": [
        "for i in range(len(df)): #Looping through Rows\n",
        "  if df[i][num_attri]=='yes': #Check if enjoy_sport is yes\n",
        "    print('\\nAfter Example {} : {} \\nSpecific Hypothesis : {}'.format(i+1, df[i], specific))\n",
        "    for j in range(num_attri): #Looping through each column in a row\n",
        "      if df[i][j]!=specific[j]: \n",
        "        specific[j]='?'\n",
        "  \n",
        "  else:\n",
        "    print('\\nAfter Example {} : {} \\nSpecific Hypothesis : No Change'.format(i+1, df[i]))"
      ],
      "metadata": {
        "colab": {
          "base_uri": "https://localhost:8080/"
        },
        "id": "VzhaUO5s4lFn",
        "outputId": "7b56079a-dbf0-409c-b132-8eb040a31004"
      },
      "execution_count": 4,
      "outputs": [
        {
          "output_type": "stream",
          "name": "stdout",
          "text": [
            "\n",
            "After Example 1 : ['sunny', 'warm', 'normal', 'strong', 'warm', 'same', 'yes'] \n",
            "Specific Hypothesis : ['sunny', 'warm', 'normal', 'strong', 'warm', 'same']\n",
            "\n",
            "After Example 2 : ['sunny', 'warm', 'high', 'strong', 'warm', 'same', 'yes'] \n",
            "Specific Hypothesis : ['sunny', 'warm', 'normal', 'strong', 'warm', 'same']\n",
            "\n",
            "After Example 3 : ['rainy', 'cold', 'high', 'strong', 'warm', 'change', 'no'] \n",
            "Specific Hypothesis : No Change\n",
            "\n",
            "After Example 4 : ['sunny', 'warm', 'high', 'strong', 'cool', 'change', 'yes'] \n",
            "Specific Hypothesis : ['sunny', 'warm', '?', 'strong', 'warm', 'same']\n"
          ]
        }
      ]
    },
    {
      "cell_type": "markdown",
      "source": [
        "#Final Specific Hypothesis"
      ],
      "metadata": {
        "id": "Z10WvwVl-pT2"
      }
    },
    {
      "cell_type": "code",
      "source": [
        "specific"
      ],
      "metadata": {
        "id": "JptsdFHL8Uhy",
        "colab": {
          "base_uri": "https://localhost:8080/"
        },
        "outputId": "d98cb9b9-1519-484a-f375-1c6803c8704f"
      },
      "execution_count": 5,
      "outputs": [
        {
          "output_type": "execute_result",
          "data": {
            "text/plain": [
              "['sunny', 'warm', '?', 'strong', '?', '?']"
            ]
          },
          "metadata": {},
          "execution_count": 5
        }
      ]
    }
  ]
}
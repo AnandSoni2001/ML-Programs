{
 "cells": [
  {
   "cell_type": "code",
   "execution_count": 11,
   "id": "5100d324",
   "metadata": {},
   "outputs": [],
   "source": [
    "import pandas as pd\n",
    "data = pd.read_csv('train.csv')"
   ]
  },
  {
   "cell_type": "code",
   "execution_count": 5,
   "id": "fa8e8191",
   "metadata": {},
   "outputs": [
    {
     "data": {
      "text/html": [
       "<div>\n",
       "<style scoped>\n",
       "    .dataframe tbody tr th:only-of-type {\n",
       "        vertical-align: middle;\n",
       "    }\n",
       "\n",
       "    .dataframe tbody tr th {\n",
       "        vertical-align: top;\n",
       "    }\n",
       "\n",
       "    .dataframe thead th {\n",
       "        text-align: right;\n",
       "    }\n",
       "</style>\n",
       "<table border=\"1\" class=\"dataframe\">\n",
       "  <thead>\n",
       "    <tr style=\"text-align: right;\">\n",
       "      <th></th>\n",
       "      <th>id</th>\n",
       "      <th>label</th>\n",
       "      <th>tweet</th>\n",
       "    </tr>\n",
       "  </thead>\n",
       "  <tbody>\n",
       "    <tr>\n",
       "      <th>0</th>\n",
       "      <td>1</td>\n",
       "      <td>0</td>\n",
       "      <td>@user when a father is dysfunctional and is s...</td>\n",
       "    </tr>\n",
       "    <tr>\n",
       "      <th>1</th>\n",
       "      <td>2</td>\n",
       "      <td>0</td>\n",
       "      <td>@user @user thanks for #lyft credit i can't us...</td>\n",
       "    </tr>\n",
       "    <tr>\n",
       "      <th>2</th>\n",
       "      <td>3</td>\n",
       "      <td>0</td>\n",
       "      <td>bihday your majesty</td>\n",
       "    </tr>\n",
       "    <tr>\n",
       "      <th>3</th>\n",
       "      <td>4</td>\n",
       "      <td>0</td>\n",
       "      <td>#model   i love u take with u all the time in ...</td>\n",
       "    </tr>\n",
       "    <tr>\n",
       "      <th>4</th>\n",
       "      <td>5</td>\n",
       "      <td>0</td>\n",
       "      <td>factsguide: society now    #motivation</td>\n",
       "    </tr>\n",
       "    <tr>\n",
       "      <th>...</th>\n",
       "      <td>...</td>\n",
       "      <td>...</td>\n",
       "      <td>...</td>\n",
       "    </tr>\n",
       "    <tr>\n",
       "      <th>31957</th>\n",
       "      <td>31958</td>\n",
       "      <td>0</td>\n",
       "      <td>ate @user isz that youuu?ðððððð...</td>\n",
       "    </tr>\n",
       "    <tr>\n",
       "      <th>31958</th>\n",
       "      <td>31959</td>\n",
       "      <td>0</td>\n",
       "      <td>to see nina turner on the airwaves trying to...</td>\n",
       "    </tr>\n",
       "    <tr>\n",
       "      <th>31959</th>\n",
       "      <td>31960</td>\n",
       "      <td>0</td>\n",
       "      <td>listening to sad songs on a monday morning otw...</td>\n",
       "    </tr>\n",
       "    <tr>\n",
       "      <th>31960</th>\n",
       "      <td>31961</td>\n",
       "      <td>1</td>\n",
       "      <td>@user #sikh #temple vandalised in in #calgary,...</td>\n",
       "    </tr>\n",
       "    <tr>\n",
       "      <th>31961</th>\n",
       "      <td>31962</td>\n",
       "      <td>0</td>\n",
       "      <td>thank you @user for you follow</td>\n",
       "    </tr>\n",
       "  </tbody>\n",
       "</table>\n",
       "<p>31962 rows × 3 columns</p>\n",
       "</div>"
      ],
      "text/plain": [
       "          id  label                                              tweet\n",
       "0          1      0   @user when a father is dysfunctional and is s...\n",
       "1          2      0  @user @user thanks for #lyft credit i can't us...\n",
       "2          3      0                                bihday your majesty\n",
       "3          4      0  #model   i love u take with u all the time in ...\n",
       "4          5      0             factsguide: society now    #motivation\n",
       "...      ...    ...                                                ...\n",
       "31957  31958      0  ate @user isz that youuu?ðððððð...\n",
       "31958  31959      0    to see nina turner on the airwaves trying to...\n",
       "31959  31960      0  listening to sad songs on a monday morning otw...\n",
       "31960  31961      1  @user #sikh #temple vandalised in in #calgary,...\n",
       "31961  31962      0                   thank you @user for you follow  \n",
       "\n",
       "[31962 rows x 3 columns]"
      ]
     },
     "execution_count": 5,
     "metadata": {},
     "output_type": "execute_result"
    }
   ],
   "source": [
    "data"
   ]
  },
  {
   "cell_type": "code",
   "execution_count": 4,
   "id": "5428d605",
   "metadata": {},
   "outputs": [
    {
     "data": {
      "text/plain": [
       "<bound method NDFrame.head of           id  label                                              tweet\n",
       "0          1      0   @user when a father is dysfunctional and is s...\n",
       "1          2      0  @user @user thanks for #lyft credit i can't us...\n",
       "2          3      0                                bihday your majesty\n",
       "3          4      0  #model   i love u take with u all the time in ...\n",
       "4          5      0             factsguide: society now    #motivation\n",
       "...      ...    ...                                                ...\n",
       "31957  31958      0  ate @user isz that youuu?ðððððð...\n",
       "31958  31959      0    to see nina turner on the airwaves trying to...\n",
       "31959  31960      0  listening to sad songs on a monday morning otw...\n",
       "31960  31961      1  @user #sikh #temple vandalised in in #calgary,...\n",
       "31961  31962      0                   thank you @user for you follow  \n",
       "\n",
       "[31962 rows x 3 columns]>"
      ]
     },
     "execution_count": 4,
     "metadata": {},
     "output_type": "execute_result"
    }
   ],
   "source": [
    "data.head"
   ]
  },
  {
   "cell_type": "code",
   "execution_count": 8,
   "id": "2b186823",
   "metadata": {},
   "outputs": [
    {
     "data": {
      "text/plain": [
       "'@user #sikh #temple vandalised in in #calgary, #wso condemns  act  '"
      ]
     },
     "execution_count": 8,
     "metadata": {},
     "output_type": "execute_result"
    }
   ],
   "source": [
    "data.tweet[31960]"
   ]
  },
  {
   "cell_type": "code",
   "execution_count": 10,
   "id": "39ed4d8b",
   "metadata": {},
   "outputs": [
    {
     "data": {
      "text/plain": [
       "1"
      ]
     },
     "execution_count": 10,
     "metadata": {},
     "output_type": "execute_result"
    }
   ],
   "source": [
    "data.label[31960]\n",
    "#1 indicates that this tweet is racist"
   ]
  },
  {
   "cell_type": "code",
   "execution_count": 2,
   "id": "d0d861c4",
   "metadata": {},
   "outputs": [
    {
     "name": "stdout",
     "output_type": "stream",
     "text": [
      "Confusion Matrix :\n",
      " [[8912   25]\n",
      " [ 368  284]]\n",
      "\n",
      "Classification Report :\n",
      "               precision    recall  f1-score   support\n",
      "\n",
      "           0       0.96      1.00      0.98      8937\n",
      "           1       0.92      0.44      0.59       652\n",
      "\n",
      "    accuracy                           0.96      9589\n",
      "   macro avg       0.94      0.72      0.78      9589\n",
      "weighted avg       0.96      0.96      0.95      9589\n",
      "\n",
      "\n",
      "Accuracy : 0.9590155386380227 \n",
      "\n",
      "HeatMap : \n",
      "\n"
     ]
    },
    {
     "data": {
      "image/png": "[encoded data removed]",
      "text/plain": [
       "<Figure size 432x288 with 2 Axes>"
      ]
     },
     "metadata": {
      "needs_background": "light"
     },
     "output_type": "display_data"
    }
   ],
   "source": [
    "#import libraries\n",
    "from sklearn.feature_extraction.text import CountVectorizer \n",
    "from sklearn.naive_bayes import MultinomialNB\n",
    "from sklearn.model_selection import train_test_split\n",
    "from sklearn.metrics import confusion_matrix, accuracy_score, classification_report \n",
    "import seaborn\n",
    "import matplotlib.pyplot as plt\n",
    "\n",
    "#Taking data and splitting it\n",
    "X, Y = data.tweet, data.label\n",
    "x_train, x_test, y_train, y_test = train_test_split(X, Y, train_size=0.7, test_size=0.3)\n",
    "\n",
    "#Transform the data into dtm matrix\n",
    "CountVector = CountVectorizer()\n",
    "xtrain = (CountVector.fit_transform(x_train)).toarray()\n",
    "xtest = (CountVector.transform(x_test)).toarray()\n",
    "\n",
    "#Define Model and train it\n",
    "Model = MultinomialNB()\n",
    "Model.fit(xtrain, y_train)\n",
    "#Predict the results\n",
    "predict = Model.predict(xtest)\n",
    "\n",
    "#Print Metrics and Accuracy\n",
    "cm = confusion_matrix(y_test, predict)\n",
    "print('Confusion Matrix :\\n' ,cm)\n",
    "print('\\nClassification Report :\\n' ,classification_report(y_test, predict))\n",
    "print('\\nAccuracy :' ,accuracy_score(y_test, predict), '\\n\\nHeatMap : \\n')\n",
    "\n",
    "#Heatmap\n",
    "seaborn.heatmap(cm, annot=True, square = True,  cmap = 'jet')\n",
    "plt.show()"
   ]
  },
  {
   "cell_type": "code",
   "execution_count": 13,
   "id": "2c90d662",
   "metadata": {},
   "outputs": [
    {
     "data": {
      "text/plain": [
       "13018    meanwhile in socialist venezuela... they prote...\n",
       "8603     if you think the answer is more guns, i really...\n",
       "30709    come and get it!! #2008 #ford #mustang #usedca...\n",
       "26490           so   and #tragic   #prayingfohefamily  :( \n",
       "16212    i swear i'm getting worst each day ðª #depre...\n",
       "                               ...                        \n",
       "7975     good morningððâï¸ðððð»   #...\n",
       "7396     re-read my tweet oh yea good one.... has becom...\n",
       "19131                           great run in at the end   \n",
       "30286     @user   bihday @user ðððð you're ...\n",
       "13629        #whenever im   and #something goes #wrong:   \n",
       "Name: tweet, Length: 22373, dtype: object"
      ]
     },
     "execution_count": 13,
     "metadata": {},
     "output_type": "execute_result"
    }
   ],
   "source": [
    "x_train"
   ]
  },
  {
   "cell_type": "markdown",
   "id": "aca05f95",
   "metadata": {},
   "source": [
    "x_test"
   ]
  },
  {
   "cell_type": "code",
   "execution_count": 12,
   "id": "07d158fc",
   "metadata": {},
   "outputs": [
    {
     "data": {
      "text/plain": [
       "array([[0, 0, 0, ..., 0, 0, 0],\n",
       "       [0, 0, 0, ..., 0, 0, 0],\n",
       "       [0, 0, 0, ..., 0, 0, 0],\n",
       "       ...,\n",
       "       [0, 0, 0, ..., 0, 0, 0],\n",
       "       [0, 0, 0, ..., 0, 0, 0],\n",
       "       [0, 0, 0, ..., 0, 0, 0]])"
      ]
     },
     "execution_count": 12,
     "metadata": {},
     "output_type": "execute_result"
    }
   ],
   "source": [
    "xtrain"
   ]
  },
  {
   "cell_type": "code",
   "execution_count": 14,
   "id": "2cdf302b",
   "metadata": {},
   "outputs": [
    {
     "data": {
      "text/plain": [
       "13018    0\n",
       "8603     0\n",
       "30709    0\n",
       "26490    0\n",
       "16212    0\n",
       "        ..\n",
       "7975     0\n",
       "7396     0\n",
       "19131    0\n",
       "30286    0\n",
       "13629    0\n",
       "Name: label, Length: 22373, dtype: int64"
      ]
     },
     "execution_count": 14,
     "metadata": {},
     "output_type": "execute_result"
    }
   ],
   "source": [
    "y_train"
   ]
  },
  {
   "cell_type": "code",
   "execution_count": 19,
   "id": "9f8fca79",
   "metadata": {},
   "outputs": [
    {
     "data": {
      "text/plain": [
       "array([[0, 0, 0, ..., 0, 0, 0],\n",
       "       [0, 0, 0, ..., 0, 0, 0],\n",
       "       [0, 0, 0, ..., 0, 0, 0],\n",
       "       ...,\n",
       "       [0, 0, 0, ..., 0, 0, 0],\n",
       "       [0, 0, 0, ..., 0, 0, 0],\n",
       "       [0, 0, 0, ..., 0, 0, 0]])"
      ]
     },
     "execution_count": 19,
     "metadata": {},
     "output_type": "execute_result"
    }
   ],
   "source": [
    "xtest"
   ]
  },
  {
   "cell_type": "code",
   "execution_count": 22,
   "id": "0159ce32",
   "metadata": {},
   "outputs": [
    {
     "name": "stdout",
     "output_type": "stream",
     "text": [
      "315516456\n",
      "32904\n"
     ]
    }
   ],
   "source": [
    "print(xtest.size)\n",
    "print(xtest[0].size)"
   ]
  },
  {
   "cell_type": "code",
   "execution_count": 23,
   "id": "0da66241",
   "metadata": {},
   "outputs": [
    {
     "name": "stdout",
     "output_type": "stream",
     "text": [
      "736161192\n",
      "32904\n"
     ]
    }
   ],
   "source": [
    "print(xtrain.size)\n",
    "print(xtrain[0].size)"
   ]
  },
  {
   "cell_type": "code",
   "execution_count": 52,
   "id": "c2eef941",
   "metadata": {},
   "outputs": [],
   "source": [
    "racist_data = data[data.label==1]"
   ]
  },
  {
   "cell_type": "code",
   "execution_count": 71,
   "id": "7911a55b",
   "metadata": {},
   "outputs": [
    {
     "data": {
      "text/plain": [
       "13       @user #cnn calls #michigan middle school 'buil...\n",
       "14       no comment!  in #australia   #opkillingbay #se...\n",
       "17                                  retweet if you agree! \n",
       "23         @user @user lumpy says i am a . prove it lumpy.\n",
       "34       it's unbelievable that in the 21st century we'...\n",
       "                               ...                        \n",
       "31934    lady banned from kentucky mall. @user  #jcpenn...\n",
       "31946    @user omfg i'm offended! i'm a  mailbox and i'...\n",
       "31947    @user @user you don't have the balls to hashta...\n",
       "31948     makes you ask yourself, who am i? then am i a...\n",
       "31960    @user #sikh #temple vandalised in in #calgary,...\n",
       "Name: tweet, Length: 2242, dtype: object"
      ]
     },
     "execution_count": 71,
     "metadata": {},
     "output_type": "execute_result"
    }
   ],
   "source": [
    "racist_data.tweet"
   ]
  },
  {
   "cell_type": "code",
   "execution_count": 86,
   "id": "99aa0df6",
   "metadata": {},
   "outputs": [
    {
     "data": {
      "text/plain": [
       "'no comment!  in #australia   #opkillingbay #seashepherd #helpcovedolphins #thecove  #helpcovedolphins'"
      ]
     },
     "execution_count": 86,
     "metadata": {},
     "output_type": "execute_result"
    }
   ],
   "source": [
    "racist_data.tweet[14]"
   ]
  },
  {
   "cell_type": "code",
   "execution_count": 90,
   "id": "f347efcf",
   "metadata": {},
   "outputs": [
    {
     "name": "stdout",
     "output_type": "stream",
     "text": [
      "1\n"
     ]
    }
   ],
   "source": [
    "a=[\"#opkillingbay #seashepherd #helpcovedolphins #thecove  #helpcovedolphins\"]\n",
    "test1 = (CountVector.transform(a)).toarray()\n",
    "print(Model.predict(test1)[0])"
   ]
  }
 ],
 "metadata": {
  "kernelspec": {
   "display_name": "Python 3 (ipykernel)",
   "language": "python",
   "name": "python3"
  },
  "language_info": {
   "codemirror_mode": {
    "name": "ipython",
    "version": 3
   },
   "file_extension": ".py",
   "mimetype": "text/x-python",
   "name": "python",
   "nbconvert_exporter": "python",
   "pygments_lexer": "ipython3",
   "version": "3.10.5"
  }
 },
 "nbformat": 4,
 "nbformat_minor": 5
}
